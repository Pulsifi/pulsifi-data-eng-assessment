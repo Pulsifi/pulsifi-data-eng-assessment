{
 "cells": [
  {
   "cell_type": "code",
   "execution_count": 1,
   "metadata": {},
   "outputs": [],
   "source": [
    "# You can use any python libraries as required"
   ]
  },
  {
   "cell_type": "markdown",
   "metadata": {},
   "source": [
    "# Question 1"
   ]
  },
  {
   "cell_type": "code",
   "execution_count": 2,
   "metadata": {},
   "outputs": [],
   "source": [
    "# Given that I have a dictionary of orders on what to buy\n",
    "\n",
    "orders = {\"apple\": 5, \"banana\": 2, \"pear\": 4}\n",
    "\n",
    "# This is the price of every item in a fruit shop\n",
    "\n",
    "fruit_shop = {\"apple\": 1, \"banana\": 2, \"pear\": 3}"
   ]
  },
  {
   "cell_type": "markdown",
   "metadata": {},
   "source": [
    "Write a One-Liner to calculate the total amount I need to pay\n",
    "\n",
    "expected_output: `21`"
   ]
  },
  {
   "cell_type": "code",
   "execution_count": 3,
   "metadata": {},
   "outputs": [],
   "source": [
    "# Answer for Question 1 here:\n"
   ]
  },
  {
   "cell_type": "markdown",
   "metadata": {},
   "source": [
    "# Question 2"
   ]
  },
  {
   "cell_type": "markdown",
   "metadata": {},
   "source": [
    "Here is one example of code snippet. Any suggestion to improve it?\n",
    "\n",
    "```animals = ['dog', 'cat', 'cat', 'cat', 'dog', 'dog', 'mouse', 'mouse', 'dog']\n",
    "\n",
    "def validate(count):\n",
    "    if bool(counts) == True:\n",
    "        return True\n",
    "    else:\n",
    "        return False\n",
    "\n",
    "def count_object(animals):\n",
    "    counts = {}\n",
    "    for a in animals:\n",
    "        if a not in counts:\n",
    "            counts[a] = 0 \n",
    "        counts[a] += 1\n",
    "    \n",
    "    return counts\n",
    "\n",
    "counts = count_object(animals)  #{'dog': 4, 'cat': 3, 'mouse': 2}\n",
    "validate(counts)  #True\n",
    "```"
   ]
  },
  {
   "cell_type": "code",
   "execution_count": 4,
   "metadata": {},
   "outputs": [],
   "source": [
    "# Answer for Question 2 here:\n"
   ]
  },
  {
   "cell_type": "markdown",
   "metadata": {},
   "source": [
    "# Question 3"
   ]
  },
  {
   "cell_type": "markdown",
   "metadata": {},
   "source": [
    "#### Given a list of dictionary"
   ]
  },
  {
   "cell_type": "code",
   "execution_count": 5,
   "metadata": {},
   "outputs": [],
   "source": [
    "data = [\n",
    "    {\"id\": 4526, \"source\": 1, \"status\": 2, \"priority\": 1, \"subject\": \"Re: Company A - Application Successfully Submitted\"},\n",
    "    {\"id\": 4527, \"source\": 9, \"status\": 2, \"priority\": 4, \"subject\": \"Assessment is not working\"},\n",
    "    {\"id\": 4528, \"source\": 2, \"status\": 4, \"priority\": 1, \"subject\": \"Network disconnect\"},\n",
    "    {\"id\": 4529, \"source\": 1, \"status\": 3, \"priority\": 3, \"subject\": \"Company B - Login failure\"},\n",
    "]"
   ]
  },
  {
   "cell_type": "markdown",
   "metadata": {},
   "source": [
    "and lookups\n",
    "\n",
    "**source**\n",
    "- 1: email\n",
    "- 2: portal\n",
    "- 3: phone\n",
    "- 7: chat\n",
    "- 8: mobile\n",
    "- 9: feedback_widget\n",
    "**status**\n",
    "- 2: open\n",
    "- 3: pending\n",
    "- 4: resolved\n",
    "- 5: closed\n",
    "**priority**\n",
    "- 1: low\n",
    "- 2: medium\n",
    "- 3: high\n",
    "- 4: urgent\n",
    "\n",
    "Write a function that transform `data` into `transformed_data` as follow. Objectives of function:\n",
    "- map `source`, `status` and `priority` from integer to string\n",
    "\n",
    "expected output:\n",
    "```\n",
    "transformed_data = [\n",
    "    {\"id\": 4526, \"source\": \"Email\", \"status\": \"Open\", \"priority\": \"Low\", \"subject\": \"Re: Company A - Application Successfully Submitted\", \"source_id\": 1, \"status_id\": 2, \"priority_id\": 1},\n",
    "    {\"id\": 4527, \"source\": \"Feedback_Widget\", \"status\": \"Open\", \"priority\": \"Urgent\", \"subject\": \"Assessment is not working\", \"source_id\": 9, \"status_id\": 2, \"priority_id\": 4},\n",
    "    {\"id\": 4528, \"source\": \"Portal\", \"status\": \"Resolved\", \"priority\": \"Low\", \"subject\": \"Network disconnect\", \"source_id\": 2, \"status_id\": 4, \"priority_id\": 1},\n",
    "    {\"id\": 4529, \"source\": \"Email\", \"status\": \"Pending\", \"priority\": \"High\", \"subject\": \"Company B - Login failure\", \"source_id\": 1, \"status_id\": 3, \"priority_id\": 3},    \n",
    "]\n",
    "```"
   ]
  },
  {
   "cell_type": "code",
   "execution_count": 6,
   "metadata": {},
   "outputs": [],
   "source": [
    "# Answer Question 3 here:\n"
   ]
  },
  {
   "cell_type": "markdown",
   "metadata": {},
   "source": [
    "# Question 4"
   ]
  },
  {
   "cell_type": "markdown",
   "metadata": {},
   "source": [
    "You are given a dataset (located in `dataset/20210506.csv`) by the company. \n",
    "<br>\n",
    "You are required to look into a subset of the data where company id is 5 and has a total of 6 questionnaires. \n",
    "<br>\n",
    "From there, you need to recommend to the client candidates whom have completed all assessments and have met the criteria. \n",
    "\n",
    "*Note: display the answer in the form of a dataframe with only recommended candidates*"
   ]
  },
  {
   "cell_type": "code",
   "execution_count": 7,
   "metadata": {},
   "outputs": [],
   "source": [
    "# Answer Question 4 here:\n",
    "import pandas as pd\n",
    "\n",
    "df = pd.read_csv(\"dataset/20210506.csv\")"
   ]
  }
 ],
 "metadata": {
  "kernelspec": {
   "display_name": "Python 3",
   "language": "python",
   "name": "python3"
  },
  "language_info": {
   "codemirror_mode": {
    "name": "ipython",
    "version": 3
   },
   "file_extension": ".py",
   "mimetype": "text/x-python",
   "name": "python",
   "nbconvert_exporter": "python",
   "pygments_lexer": "ipython3",
   "version": "3.8.3"
  }
 },
 "nbformat": 4,
 "nbformat_minor": 5
}
